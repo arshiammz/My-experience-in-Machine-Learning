{
 "cells": [
  {
   "cell_type": "markdown",
   "id": "4d5f65ad",
   "metadata": {},
   "source": [
    "\n",
    "# Insurance Claim Fraud — Logistic Regression (From Scratch)\n",
    "\n",
    "این نوت‌بوک یک پیاده‌سازی **رگرسیون لجستیک** را برای تشخیص **fraud vs. legal** از روی فایل **`car.csv`** ارائه می‌دهد.\n",
    "- فقط **یک دیتاست** داریم: `car.csv`\n",
    "- داده‌ها را به صورت **train/validation/test** از همین فایل می‌سازیم\n",
    "- پیش‌پردازش تمیز: **One-Hot** برای متنی‌ها، **StandardScaler** برای عددی‌ها\n",
    "- آموزش **از صفر** (Gradient Descent + L2)، انتخاب **Threshold** با F1 روی **Validation**\n",
    "- ارزیابی کامل روی **Test**: Accuracy، Precision، Recall، F1، ROC-AUC و Confusion Matrix\n"
   ]
  },
  {
   "cell_type": "code",
   "execution_count": null,
   "id": "55ba6f4d",
   "metadata": {},
   "outputs": [
    {
     "name": "stdout",
     "output_type": "stream",
     "text": [
      "Note: you may need to restart the kernel to use updated packages.\n"
     ]
    },
    {
     "name": "stderr",
     "output_type": "stream",
     "text": [
      "ERROR: Could not find a version that satisfies the requirement sckit-learn (from versions: none)\n",
      "\n",
      "[notice] A new release of pip is available: 24.3.1 -> 25.3\n",
      "[notice] To update, run: python.exe -m pip install --upgrade pip\n",
      "ERROR: No matching distribution found for sckit-learn\n"
     ]
    }
   ],
   "source": [
    "!pip install sckit-learn"
   ]
  },
  {
   "cell_type": "markdown",
   "id": "14222358",
   "metadata": {},
   "source": [
    "## Imports"
   ]
  },
  {
   "cell_type": "code",
   "execution_count": 1,
   "id": "6110b301",
   "metadata": {},
   "outputs": [
    {
     "name": "stdout",
     "output_type": "stream",
     "text": [
      "Imports ready.\n"
     ]
    }
   ],
   "source": [
    "\n",
    "import numpy as np\n",
    "import pandas as pd\n",
    "from pathlib import Path\n",
    "\n",
    "from sklearn.compose import ColumnTransformer, make_column_selector as selector\n",
    "from sklearn.preprocessing import OneHotEncoder, StandardScaler\n",
    "from sklearn.model_selection import train_test_split\n",
    "from sklearn.metrics import (\n",
    "    accuracy_score, precision_score, recall_score, f1_score,\n",
    "    roc_auc_score, roc_curve, confusion_matrix\n",
    ")\n",
    "\n",
    "import matplotlib.pyplot as plt\n",
    "\n",
    "pd.set_option(\"display.max_rows\", 50)\n",
    "pd.set_option(\"display.max_columns\", 50)\n",
    "print(\"Imports ready.\")\n"
   ]
  },
  {
   "cell_type": "markdown",
   "id": "7030e1d0",
   "metadata": {},
   "source": [
    "\n",
    "## Load data (`car.csv`)\n",
    "\n",
    "> فرض: ستون آخر **label** است (مثلاً `fraud`/`legal`). سایر ستون‌ها ویژگی‌ها هستند.\n"
   ]
  },
  {
   "cell_type": "code",
   "execution_count": 2,
   "id": "6972b409",
   "metadata": {},
   "outputs": [
    {
     "name": "stdout",
     "output_type": "stream",
     "text": [
      "(15420, 32)\n"
     ]
    },
    {
     "data": {
      "text/html": [
       "<div>\n",
       "<style scoped>\n",
       "    .dataframe tbody tr th:only-of-type {\n",
       "        vertical-align: middle;\n",
       "    }\n",
       "\n",
       "    .dataframe tbody tr th {\n",
       "        vertical-align: top;\n",
       "    }\n",
       "\n",
       "    .dataframe thead th {\n",
       "        text-align: right;\n",
       "    }\n",
       "</style>\n",
       "<table border=\"1\" class=\"dataframe\">\n",
       "  <thead>\n",
       "    <tr style=\"text-align: right;\">\n",
       "      <th></th>\n",
       "      <th>month</th>\n",
       "      <th>week_of_month</th>\n",
       "      <th>day_of_week</th>\n",
       "      <th>make</th>\n",
       "      <th>accident_area</th>\n",
       "      <th>month_claimed</th>\n",
       "      <th>week_of_month_claimed</th>\n",
       "      <th>day_of_week_claimed</th>\n",
       "      <th>year</th>\n",
       "      <th>weeks_past</th>\n",
       "      <th>is_holidayweek_claim</th>\n",
       "      <th>sex</th>\n",
       "      <th>marital_status</th>\n",
       "      <th>fault</th>\n",
       "      <th>vehicle_category</th>\n",
       "      <th>vehicle_price</th>\n",
       "      <th>rep_number</th>\n",
       "      <th>deductible</th>\n",
       "      <th>driver_rating</th>\n",
       "      <th>days_policy-accident</th>\n",
       "      <th>days_policy-claim</th>\n",
       "      <th>past_number_of_claims</th>\n",
       "      <th>age_of_vehicle</th>\n",
       "      <th>age_of_policy-holder</th>\n",
       "      <th>police_report_filed</th>\n",
       "      <th>witness_present</th>\n",
       "      <th>agent_type</th>\n",
       "      <th>number_of_suppliments</th>\n",
       "      <th>address_change-claim</th>\n",
       "      <th>number_of_cars</th>\n",
       "      <th>base_policy</th>\n",
       "      <th>class</th>\n",
       "    </tr>\n",
       "  </thead>\n",
       "  <tbody>\n",
       "    <tr>\n",
       "      <th>0</th>\n",
       "      <td>dec</td>\n",
       "      <td>5</td>\n",
       "      <td>wednesday</td>\n",
       "      <td>honda</td>\n",
       "      <td>urban</td>\n",
       "      <td>jan</td>\n",
       "      <td>1</td>\n",
       "      <td>tue</td>\n",
       "      <td>1994</td>\n",
       "      <td>1</td>\n",
       "      <td>1</td>\n",
       "      <td>female</td>\n",
       "      <td>single</td>\n",
       "      <td>policy-holder</td>\n",
       "      <td>sport</td>\n",
       "      <td>&gt;69</td>\n",
       "      <td>12</td>\n",
       "      <td>300</td>\n",
       "      <td>1</td>\n",
       "      <td>&gt;30</td>\n",
       "      <td>&gt;30</td>\n",
       "      <td>none</td>\n",
       "      <td>4-Jan</td>\n",
       "      <td>26&lt;=X&lt;=30</td>\n",
       "      <td>no</td>\n",
       "      <td>no</td>\n",
       "      <td>external</td>\n",
       "      <td>none</td>\n",
       "      <td>one</td>\n",
       "      <td>3&lt;=X&lt;=4</td>\n",
       "      <td>liability</td>\n",
       "      <td>legal</td>\n",
       "    </tr>\n",
       "    <tr>\n",
       "      <th>1</th>\n",
       "      <td>jan</td>\n",
       "      <td>3</td>\n",
       "      <td>wednesday</td>\n",
       "      <td>honda</td>\n",
       "      <td>urban</td>\n",
       "      <td>jan</td>\n",
       "      <td>4</td>\n",
       "      <td>mon</td>\n",
       "      <td>1994</td>\n",
       "      <td>1</td>\n",
       "      <td>0</td>\n",
       "      <td>male</td>\n",
       "      <td>single</td>\n",
       "      <td>policy-holder</td>\n",
       "      <td>sport</td>\n",
       "      <td>&gt;69</td>\n",
       "      <td>15</td>\n",
       "      <td>400</td>\n",
       "      <td>4</td>\n",
       "      <td>&gt;30</td>\n",
       "      <td>&gt;30</td>\n",
       "      <td>none</td>\n",
       "      <td>6</td>\n",
       "      <td>31&lt;=X&lt;=35</td>\n",
       "      <td>yes</td>\n",
       "      <td>no</td>\n",
       "      <td>external</td>\n",
       "      <td>none</td>\n",
       "      <td>none</td>\n",
       "      <td>&lt;3</td>\n",
       "      <td>collision</td>\n",
       "      <td>legal</td>\n",
       "    </tr>\n",
       "    <tr>\n",
       "      <th>2</th>\n",
       "      <td>oct</td>\n",
       "      <td>5</td>\n",
       "      <td>friday</td>\n",
       "      <td>honda</td>\n",
       "      <td>urban</td>\n",
       "      <td>nov</td>\n",
       "      <td>2</td>\n",
       "      <td>thu</td>\n",
       "      <td>1994</td>\n",
       "      <td>2</td>\n",
       "      <td>1</td>\n",
       "      <td>male</td>\n",
       "      <td>married</td>\n",
       "      <td>policy-holder</td>\n",
       "      <td>sport</td>\n",
       "      <td>&gt;69</td>\n",
       "      <td>7</td>\n",
       "      <td>400</td>\n",
       "      <td>3</td>\n",
       "      <td>&gt;30</td>\n",
       "      <td>&gt;30</td>\n",
       "      <td>one</td>\n",
       "      <td>7</td>\n",
       "      <td>41&lt;=X&lt;=50</td>\n",
       "      <td>no</td>\n",
       "      <td>no</td>\n",
       "      <td>external</td>\n",
       "      <td>none</td>\n",
       "      <td>none</td>\n",
       "      <td>&lt;3</td>\n",
       "      <td>collision</td>\n",
       "      <td>legal</td>\n",
       "    </tr>\n",
       "    <tr>\n",
       "      <th>3</th>\n",
       "      <td>jun</td>\n",
       "      <td>2</td>\n",
       "      <td>saturday</td>\n",
       "      <td>toyota</td>\n",
       "      <td>rural</td>\n",
       "      <td>jul</td>\n",
       "      <td>1</td>\n",
       "      <td>fri</td>\n",
       "      <td>1994</td>\n",
       "      <td>4</td>\n",
       "      <td>0</td>\n",
       "      <td>male</td>\n",
       "      <td>married</td>\n",
       "      <td>third-party</td>\n",
       "      <td>sport</td>\n",
       "      <td>20&lt;=X&lt;=29</td>\n",
       "      <td>4</td>\n",
       "      <td>400</td>\n",
       "      <td>2</td>\n",
       "      <td>&gt;30</td>\n",
       "      <td>&gt;30</td>\n",
       "      <td>one</td>\n",
       "      <td>8</td>\n",
       "      <td>51&lt;=X&lt;=65</td>\n",
       "      <td>yes</td>\n",
       "      <td>no</td>\n",
       "      <td>external</td>\n",
       "      <td>&gt;5</td>\n",
       "      <td>none</td>\n",
       "      <td>&lt;3</td>\n",
       "      <td>liability</td>\n",
       "      <td>legal</td>\n",
       "    </tr>\n",
       "    <tr>\n",
       "      <th>4</th>\n",
       "      <td>jan</td>\n",
       "      <td>5</td>\n",
       "      <td>monday</td>\n",
       "      <td>honda</td>\n",
       "      <td>urban</td>\n",
       "      <td>feb</td>\n",
       "      <td>2</td>\n",
       "      <td>tue</td>\n",
       "      <td>1994</td>\n",
       "      <td>2</td>\n",
       "      <td>0</td>\n",
       "      <td>female</td>\n",
       "      <td>single</td>\n",
       "      <td>third-party</td>\n",
       "      <td>sport</td>\n",
       "      <td>&gt;69</td>\n",
       "      <td>3</td>\n",
       "      <td>400</td>\n",
       "      <td>1</td>\n",
       "      <td>&gt;30</td>\n",
       "      <td>&gt;30</td>\n",
       "      <td>none</td>\n",
       "      <td>5</td>\n",
       "      <td>31&lt;=X&lt;=35</td>\n",
       "      <td>no</td>\n",
       "      <td>no</td>\n",
       "      <td>external</td>\n",
       "      <td>none</td>\n",
       "      <td>none</td>\n",
       "      <td>&lt;3</td>\n",
       "      <td>collision</td>\n",
       "      <td>legal</td>\n",
       "    </tr>\n",
       "  </tbody>\n",
       "</table>\n",
       "</div>"
      ],
      "text/plain": [
       "  month  week_of_month day_of_week    make accident_area month_claimed  \\\n",
       "0   dec              5   wednesday   honda         urban           jan   \n",
       "1   jan              3   wednesday   honda         urban           jan   \n",
       "2   oct              5      friday   honda         urban           nov   \n",
       "3   jun              2    saturday  toyota         rural           jul   \n",
       "4   jan              5      monday   honda         urban           feb   \n",
       "\n",
       "   week_of_month_claimed day_of_week_claimed  year  weeks_past  \\\n",
       "0                      1                 tue  1994           1   \n",
       "1                      4                 mon  1994           1   \n",
       "2                      2                 thu  1994           2   \n",
       "3                      1                 fri  1994           4   \n",
       "4                      2                 tue  1994           2   \n",
       "\n",
       "   is_holidayweek_claim     sex marital_status          fault  \\\n",
       "0                     1  female         single  policy-holder   \n",
       "1                     0    male         single  policy-holder   \n",
       "2                     1    male        married  policy-holder   \n",
       "3                     0    male        married    third-party   \n",
       "4                     0  female         single    third-party   \n",
       "\n",
       "  vehicle_category vehicle_price  rep_number  deductible  driver_rating  \\\n",
       "0            sport           >69          12         300              1   \n",
       "1            sport           >69          15         400              4   \n",
       "2            sport           >69           7         400              3   \n",
       "3            sport     20<=X<=29           4         400              2   \n",
       "4            sport           >69           3         400              1   \n",
       "\n",
       "  days_policy-accident days_policy-claim past_number_of_claims age_of_vehicle  \\\n",
       "0                  >30               >30                  none          4-Jan   \n",
       "1                  >30               >30                  none              6   \n",
       "2                  >30               >30                   one              7   \n",
       "3                  >30               >30                   one              8   \n",
       "4                  >30               >30                  none              5   \n",
       "\n",
       "  age_of_policy-holder police_report_filed witness_present agent_type  \\\n",
       "0            26<=X<=30                  no              no   external   \n",
       "1            31<=X<=35                 yes              no   external   \n",
       "2            41<=X<=50                  no              no   external   \n",
       "3            51<=X<=65                 yes              no   external   \n",
       "4            31<=X<=35                  no              no   external   \n",
       "\n",
       "  number_of_suppliments address_change-claim number_of_cars base_policy  class  \n",
       "0                  none                  one        3<=X<=4   liability  legal  \n",
       "1                  none                 none             <3   collision  legal  \n",
       "2                  none                 none             <3   collision  legal  \n",
       "3                    >5                 none             <3   liability  legal  \n",
       "4                  none                 none             <3   collision  legal  "
      ]
     },
     "execution_count": 2,
     "metadata": {},
     "output_type": "execute_result"
    }
   ],
   "source": [
    "\n",
    "DATA_PATH = Path(\"car.csv\")  # اگر فایل در همین پوشه است\n",
    "assert DATA_PATH.exists(), f\"File not found: {DATA_PATH.resolve()}\"\n",
    "\n",
    "df = pd.read_csv(DATA_PATH)\n",
    "print(df.shape)\n",
    "df.head()\n"
   ]
  },
  {
   "cell_type": "markdown",
   "id": "64426dcb",
   "metadata": {},
   "source": [
    "\n",
    "## Train/Validation/Test Split + Preprocessing\n",
    "\n",
    "- از **یک فایل**، ابتدا دیتاست را به **train/test** تقسیم می‌کنیم\n",
    "- سپس از **train** یک **validation** جدا می‌کنیم (برای انتخاب threshold)\n",
    "- پیش‌پردازش:\n",
    "  - **عدد‌ی‌ها** → `StandardScaler`\n",
    "  - **متنی‌ها** → `OneHotEncoder(handle_unknown=\"ignore\")`\n"
   ]
  },
  {
   "cell_type": "code",
   "execution_count": 3,
   "id": "1803faeb",
   "metadata": {},
   "outputs": [
    {
     "data": {
      "text/plain": [
       "((9868, 132), (2468, 132), (3084, 132), 132)"
      ]
     },
     "execution_count": 3,
     "metadata": {},
     "output_type": "execute_result"
    }
   ],
   "source": [
    "\n",
    "# جداسازی X و y\n",
    "y_raw = df.iloc[:, -1].values\n",
    "X_df  = df.iloc[:, :-1]\n",
    "\n",
    "# اگر y متنی باشد نگاشت به 0/1\n",
    "if y_raw.dtype == object:\n",
    "    classes = pd.unique(y_raw)\n",
    "    mapping = {c: (1 if str(c).lower() in {\"fraud\",\"fraudulent\",\"1\",\"true\",\"yes\"} else 0) for c in classes}\n",
    "    y = np.array([mapping[v] for v in y_raw], dtype=int)\n",
    "else:\n",
    "    y = y_raw.astype(int)\n",
    "\n",
    "# split به train/test\n",
    "X_train_df, X_test_df, y_train, y_test = train_test_split(\n",
    "    X_df, y, test_size=0.2, random_state=42, stratify=y\n",
    ")\n",
    "\n",
    "# split به train/val (از train)\n",
    "X_tr_df, X_val_df, y_tr, y_val = train_test_split(\n",
    "    X_train_df, y_train, test_size=0.2, random_state=42, stratify=y_train\n",
    ")\n",
    "\n",
    "# ColumnTransformer\n",
    "num_sel = selector(dtype_include=np.number)\n",
    "cat_sel = selector(dtype_include=object)\n",
    "numeric_cols = num_sel(X_tr_df)\n",
    "categorical_cols = cat_sel(X_tr_df)\n",
    "\n",
    "pre = ColumnTransformer(\n",
    "    transformers=[\n",
    "        (\"num\", StandardScaler(), numeric_cols),\n",
    "        (\"cat\", OneHotEncoder(handle_unknown=\"ignore\", sparse_output=False), categorical_cols),\n",
    "    ],\n",
    "    remainder=\"drop\"\n",
    ")\n",
    "\n",
    "# fit روی train (tr)، transform روی val/test\n",
    "X_tr  = pre.fit_transform(X_tr_df)\n",
    "X_val = pre.transform(X_val_df)\n",
    "X_test = pre.transform(X_test_df)\n",
    "\n",
    "# نام ویژگی‌ها (اختیاری)\n",
    "try:\n",
    "    num_names = list(numeric_cols)\n",
    "    cat_names = list(pre.named_transformers_[\"cat\"].get_feature_names_out(categorical_cols))\n",
    "    feature_names = num_names + cat_names\n",
    "except Exception:\n",
    "    feature_names = None\n",
    "\n",
    "X_tr.shape, X_val.shape, X_test.shape, len(feature_names) if feature_names else None\n"
   ]
  },
  {
   "cell_type": "markdown",
   "id": "3d4f5d47",
   "metadata": {},
   "source": [
    "\n",
    "## Logistic Regression (from scratch)\n",
    "\n",
    "- تابع **سیگموید**\n",
    "- کلاس **`LogisticRegressionScratch`** با:\n",
    "  - L2 regularization (بدون پنالتی روی بایاس)\n",
    "  - Early stopping ساده روی loss آموزش\n",
    "  - `predict_proba` و `predict`\n"
   ]
  },
  {
   "cell_type": "code",
   "execution_count": 4,
   "id": "ad828a37",
   "metadata": {},
   "outputs": [
    {
     "name": "stdout",
     "output_type": "stream",
     "text": [
      "Class defined.\n"
     ]
    }
   ],
   "source": [
    "\n",
    "def sigmoid(z):\n",
    "    z = np.clip(z, -500, 500)\n",
    "    return 1.0 / (1.0 + np.exp(-z))\n",
    "\n",
    "class LogisticRegressionScratch:\n",
    "    def __init__(self, lr=0.1, n_iters=5000, l2=1.0, fit_intercept=True, random_state=0, tol=1e-7, patience=200):\n",
    "        self.lr = lr\n",
    "        self.n_iters = n_iters\n",
    "        self.l2 = l2\n",
    "        self.fit_intercept = fit_intercept\n",
    "        self.random_state = random_state\n",
    "        self.tol = tol\n",
    "        self.patience = patience\n",
    "        self.w = None\n",
    "        self.loss_history_ = []\n",
    "\n",
    "    def _add_intercept(self, X):\n",
    "        if not self.fit_intercept:\n",
    "            return X\n",
    "        return np.concatenate([np.ones((X.shape[0], 1)), X], axis=1)\n",
    "\n",
    "    def _loss(self, Xb, y, w):\n",
    "        m = Xb.shape[0]\n",
    "        p = sigmoid(Xb @ w)\n",
    "        eps = 1e-12\n",
    "        ce = -np.mean(y*np.log(p+eps) + (1-y)*np.log(1-p+eps))\n",
    "        if self.l2 > 0:\n",
    "            w_reg = w[1:] if self.fit_intercept else w\n",
    "            ce += (self.l2/(2*m)) * (w_reg @ w_reg)\n",
    "        return ce\n",
    "\n",
    "    def fit(self, X, y):\n",
    "        rng = np.random.default_rng(self.random_state)\n",
    "        Xb = self._add_intercept(X)\n",
    "        self.w = rng.normal(scale=0.01, size=Xb.shape[1])\n",
    "\n",
    "        best = np.inf\n",
    "        patience_left = self.patience\n",
    "\n",
    "        for _ in range(self.n_iters):\n",
    "            p = sigmoid(Xb @ self.w)\n",
    "            grad = (Xb.T @ (p - y)) / Xb.shape[0]\n",
    "            if self.l2 > 0:\n",
    "                reg = np.r_[0.0, self.w[1:]] if self.fit_intercept else self.w\n",
    "                grad += (self.l2 / Xb.shape[0]) * reg\n",
    "            self.w -= self.lr * grad\n",
    "\n",
    "            loss = self._loss(Xb, y, self.w)\n",
    "            self.loss_history_.append(loss)\n",
    "\n",
    "            if loss + self.tol < best:\n",
    "                best = loss\n",
    "                patience_left = self.patience\n",
    "            else:\n",
    "                patience_left -= 1\n",
    "                if patience_left <= 0:\n",
    "                    break\n",
    "        return self\n",
    "\n",
    "    def predict_proba(self, X):\n",
    "        Xb = self._add_intercept(X)\n",
    "        return sigmoid(Xb @ self.w)\n",
    "\n",
    "    def predict(self, X, threshold=0.5):\n",
    "        return (self.predict_proba(X) >= threshold).astype(int)\n",
    "\n",
    "print(\"Class defined.\")\n"
   ]
  },
  {
   "cell_type": "markdown",
   "id": "ca555ed9",
   "metadata": {},
   "source": [
    "## Threshold Selection & Evaluation Helpers"
   ]
  },
  {
   "cell_type": "code",
   "execution_count": 5,
   "id": "22acb338",
   "metadata": {},
   "outputs": [],
   "source": [
    "\n",
    "def pick_threshold_by_f1(y_true, y_proba):\n",
    "    fpr, tpr, thr = roc_curve(y_true, y_proba)\n",
    "    best_t, best_f1 = 0.5, -1\n",
    "    for t in thr:\n",
    "        y_pred = (y_proba >= t).astype(int)\n",
    "        f1 = f1_score(y_true, y_pred, zero_division=0)\n",
    "        if f1 > best_f1:\n",
    "            best_f1, best_t = f1, t\n",
    "    return float(best_t), float(best_f1)\n",
    "\n",
    "def evaluate_all(y_true, y_proba, threshold=0.5, title=\"\"):\n",
    "    y_pred = (y_proba >= threshold).astype(int)\n",
    "    acc = accuracy_score(y_true, y_pred)\n",
    "    prec = precision_score(y_true, y_pred, zero_division=0)\n",
    "    rec = recall_score(y_true, y_pred, zero_division=0)\n",
    "    f1 = f1_score(y_true, y_pred, zero_division=0)\n",
    "    auc = roc_auc_score(y_true, y_proba)\n",
    "    cm = confusion_matrix(y_true, y_pred)\n",
    "\n",
    "    print(f\"\\n=== {title} ===\")\n",
    "    print(f\"Threshold : {threshold:.3f}\")\n",
    "    print(f\"Accuracy  : {acc:.4f}\")\n",
    "    print(f\"Precision : {prec:.4f}\")\n",
    "    print(f\"Recall    : {rec:.4f}\")\n",
    "    print(f\"F1-score  : {f1:.4f}\")\n",
    "    print(f\"ROC-AUC   : {auc:.4f}\")\n",
    "    print(\"Confusion Matrix:\\n\", cm)\n",
    "    return {\"acc\": acc, \"prec\": prec, \"rec\": rec, \"f1\": f1, \"auc\": auc, \"cm\": cm}\n"
   ]
  },
  {
   "cell_type": "markdown",
   "id": "b89d3178",
   "metadata": {},
   "source": [
    "## Train (on Train) & Select Threshold (on Validation)"
   ]
  },
  {
   "cell_type": "code",
   "execution_count": 8,
   "id": "8dd85f8b",
   "metadata": {},
   "outputs": [
    {
     "name": "stdout",
     "output_type": "stream",
     "text": [
      "Best threshold on validation by F1: t=0.106, F1=0.2515\n"
     ]
    }
   ],
   "source": [
    "\n",
    "model = LogisticRegressionScratch(lr=0.1, n_iters=200000, l2=1.0, fit_intercept=True, random_state=0)\n",
    "model.fit(X_tr, y_tr)\n",
    "\n",
    "val_proba = model.predict_proba(X_val)\n",
    "best_t, best_f1 = pick_threshold_by_f1(y_val, val_proba)\n",
    "print(f\"Best threshold on validation by F1: t={best_t:.3f}, F1={best_f1:.4f}\")\n"
   ]
  },
  {
   "cell_type": "markdown",
   "id": "81d0f38f",
   "metadata": {},
   "source": [
    "## Training Loss Curve"
   ]
  },
  {
   "cell_type": "code",
   "execution_count": 9,
   "id": "4c1122a0",
   "metadata": {},
   "outputs": [
    {
     "data": {
      "image/png": "[encoded data removed]",
      "text/plain": [
       "<Figure size 640x480 with 1 Axes>"
      ]
     },
     "metadata": {},
     "output_type": "display_data"
    }
   ],
   "source": [
    "\n",
    "plt.figure()\n",
    "plt.plot(model.loss_history_)\n",
    "plt.xlabel(\"Iteration\")\n",
    "plt.ylabel(\"Loss\")\n",
    "plt.title(\"Training Loss (Binary Cross-Entropy)\")\n",
    "plt.tight_layout()\n",
    "plt.show()\n"
   ]
  },
  {
   "cell_type": "markdown",
   "id": "f8585858",
   "metadata": {},
   "source": [
    "## Evaluate on Test Set"
   ]
  },
  {
   "cell_type": "code",
   "execution_count": 10,
   "id": "dd780ece",
   "metadata": {},
   "outputs": [
    {
     "name": "stdout",
     "output_type": "stream",
     "text": [
      "\n",
      "=== LogReg (Scratch) — Test @BestThreshold ===\n",
      "Threshold : 0.106\n",
      "Accuracy  : 0.7834\n",
      "Precision : 0.1474\n",
      "Recall    : 0.5459\n",
      "F1-score  : 0.2322\n",
      "ROC-AUC   : 0.8076\n",
      "Confusion Matrix:\n",
      " [[2315  584]\n",
      " [  84  101]]\n",
      "\n",
      "=== LogReg (Scratch) — Test @0.5 ===\n",
      "Threshold : 0.500\n",
      "Accuracy  : 0.9397\n",
      "Precision : 0.3333\n",
      "Recall    : 0.0054\n",
      "F1-score  : 0.0106\n",
      "ROC-AUC   : 0.8076\n",
      "Confusion Matrix:\n",
      " [[2897    2]\n",
      " [ 184    1]]\n"
     ]
    }
   ],
   "source": [
    "\n",
    "test_proba = model.predict_proba(X_test)\n",
    "_ = evaluate_all(y_test, test_proba, threshold=best_t, title=\"LogReg (Scratch) — Test @BestThreshold\")\n",
    "_ = evaluate_all(y_test, test_proba, threshold=0.5,   title=\"LogReg (Scratch) — Test @0.5\")\n"
   ]
  },
  {
   "cell_type": "markdown",
   "id": "1ac9452c",
   "metadata": {},
   "source": [
    "## ROC Curve (Optional)"
   ]
  },
  {
   "cell_type": "code",
   "execution_count": 11,
   "id": "5db57343",
   "metadata": {},
   "outputs": [
    {
     "data": {
      "image/png": "[encoded data removed]",
      "text/plain": [
       "<Figure size 640x480 with 1 Axes>"
      ]
     },
     "metadata": {},
     "output_type": "display_data"
    }
   ],
   "source": [
    "\n",
    "fpr, tpr, thr = roc_curve(y_test, test_proba)\n",
    "plt.figure()\n",
    "plt.plot(fpr, tpr, label=\"ROC\")\n",
    "plt.plot([0,1], [0,1], linestyle=\"--\", label=\"Random\")\n",
    "plt.xlabel(\"False Positive Rate\")\n",
    "plt.ylabel(\"True Positive Rate (Recall)\")\n",
    "plt.title(\"ROC Curve (Test)\")\n",
    "plt.legend()\n",
    "plt.tight_layout()\n",
    "plt.show()\n"
   ]
  },
  {
   "cell_type": "markdown",
   "id": "888d53ec",
   "metadata": {},
   "source": [
    "## Confusion Matrix (Optional)"
   ]
  },
  {
   "cell_type": "code",
   "execution_count": 12,
   "id": "63c38a67",
   "metadata": {},
   "outputs": [
    {
     "data": {
      "image/png": "[encoded data removed]",
      "text/plain": [
       "<Figure size 640x480 with 2 Axes>"
      ]
     },
     "metadata": {},
     "output_type": "display_data"
    }
   ],
   "source": [
    "\n",
    "from itertools import product\n",
    "\n",
    "def plot_confusion_matrix(cm, class_names=(\"Legal\",\"Fraud\")):\n",
    "    plt.figure()\n",
    "    plt.imshow(cm, interpolation='nearest')\n",
    "    plt.title(\"Confusion Matrix\")\n",
    "    plt.colorbar()\n",
    "    tick_marks = np.arange(len(class_names))\n",
    "    plt.xticks(tick_marks, class_names, rotation=45)\n",
    "    plt.yticks(tick_marks, class_names)\n",
    "\n",
    "    thresh = cm.max() / 2.0 if cm.size else 0\n",
    "    for i, j in product(range(cm.shape[0]), range(cm.shape[1])):\n",
    "        plt.text(j, i, format(cm[i, j], 'd'),\n",
    "                 horizontalalignment=\"center\")\n",
    "\n",
    "    plt.ylabel('True label')\n",
    "    plt.xlabel('Predicted label')\n",
    "    plt.tight_layout()\n",
    "    plt.show()\n",
    "\n",
    "cm_best = confusion_matrix(y_test, (test_proba >= best_t).astype(int))\n",
    "plot_confusion_matrix(cm_best)\n"
   ]
  }
 ],
 "metadata": {
  "kernelspec": {
   "display_name": "Python 3",
   "language": "python",
   "name": "python3"
  },
  "language_info": {
   "codemirror_mode": {
    "name": "ipython",
    "version": 3
   },
   "file_extension": ".py",
   "mimetype": "text/x-python",
   "name": "python",
   "nbconvert_exporter": "python",
   "pygments_lexer": "ipython3",
   "version": "3.13.5"
  }
 },
 "nbformat": 4,
 "nbformat_minor": 5
}
